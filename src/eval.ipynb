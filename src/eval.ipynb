{
 "cells": [
  {
   "cell_type": "markdown",
   "id": "3e93183c",
   "metadata": {},
   "source": [
    "# About\n"
   ]
  },
  {
   "cell_type": "markdown",
   "id": "87bd14b3",
   "metadata": {},
   "source": [
    "# Testing Pretrained Models on ICL"
   ]
  },
  {
   "cell_type": "markdown",
   "id": "a818f69d",
   "metadata": {},
   "source": [
    "# Baseline Models"
   ]
  },
  {
   "cell_type": "markdown",
   "id": "ae727e8a",
   "metadata": {},
   "source": [
    "## OLS"
   ]
  },
  {
   "cell_type": "markdown",
   "id": "4f29b883",
   "metadata": {},
   "source": [
    "## 3 Nearest Neighbors"
   ]
  },
  {
   "cell_type": "markdown",
   "id": "04a6fc6e",
   "metadata": {},
   "source": [
    "## Kernel Ridge Regression"
   ]
  },
  {
   "cell_type": "markdown",
   "id": "5ecfe78b",
   "metadata": {},
   "source": [
    "# Fine Tuned Models"
   ]
  },
  {
   "cell_type": "markdown",
   "id": "de90fc2b",
   "metadata": {},
   "source": [
    "## nanoGPT"
   ]
  },
  {
   "cell_type": "markdown",
   "id": "941e85b9",
   "metadata": {},
   "source": [
    "## Mamba"
   ]
  }
 ],
 "metadata": {
  "kernelspec": {
   "display_name": "kernel_icl",
   "language": "python",
   "name": "python3"
  },
  "language_info": {
   "name": "python",
   "version": "3.8.12"
  }
 },
 "nbformat": 4,
 "nbformat_minor": 5
}
