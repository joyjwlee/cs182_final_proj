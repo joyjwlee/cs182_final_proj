{
 "cells": [
  {
   "cell_type": "markdown",
   "id": "3e93183c",
   "metadata": {},
   "source": [
    "# About\n",
    "\n",
    "This notebook will be the main evaluations of the models.\n",
    "\n",
    "Credits to Garg et. al for the code, which we modified. The original source can be found [here](https://github.com/dtsip/in-context-learning)"
   ]
  },
  {
   "cell_type": "code",
   "execution_count": 5,
   "id": "465ad023",
   "metadata": {},
   "outputs": [
    {
     "name": "stdout",
     "output_type": "stream",
     "text": [
      "The autoreload extension is already loaded. To reload it, use:\n",
      "  %reload_ext autoreload\n"
     ]
    }
   ],
   "source": [
    "from collections import OrderedDict\n",
    "import re\n",
    "import os\n",
    "\n",
    "import matplotlib.pyplot as plt\n",
    "import pandas as pd\n",
    "import seaborn as sns\n",
    "import torch\n",
    "from tqdm.notebook import tqdm\n",
    "\n",
    "from eval import get_run_metrics, read_run_dir, get_model_from_run\n",
    "from plot_utils import basic_plot, collect_results, relevant_model_names\n",
    "\n",
    "%matplotlib inline\n",
    "%load_ext autoreload\n",
    "%autoreload 2\n",
    "\n",
    "sns.set_theme('notebook', 'darkgrid')\n",
    "palette = sns.color_palette('colorblind')\n",
    "\n",
    "run_dir = \"../models\""
   ]
  },
  {
   "cell_type": "code",
   "execution_count": null,
   "id": "8cb1b724",
   "metadata": {},
   "outputs": [],
   "source": [
    "# Displaying the directories\n",
    "df = read_run_dir(run_dir)\n",
    "df  # list all the runs in our run_dir"
   ]
  },
  {
   "cell_type": "code",
   "execution_count": null,
   "id": "5a194204",
   "metadata": {},
   "outputs": [],
   "source": [
    "# Defining some hyperparameters for generating figures\n",
    "task = \"kernel_regression\"\n",
    "run_path_nanogpt = os.path.join(run_dir, task, \"nanogpt\")\n",
    "run_path_mamba = os.path.join(run_dir, task, \"mamba\")"
   ]
  },
  {
   "cell_type": "markdown",
   "id": "78cbd639",
   "metadata": {},
   "source": [
    "# Running Metrics\n",
    "\n",
    "Recomputing metrics: getting nanoGPT and Mamba to run on the same dataset to get an equal comparison and also adding the distribution shifts"
   ]
  },
  {
   "cell_type": "code",
   "execution_count": null,
   "id": "ac46a7f4",
   "metadata": {},
   "outputs": [],
   "source": []
  },
  {
   "cell_type": "markdown",
   "id": "cd154c9b",
   "metadata": {},
   "source": [
    "# Figure 1: Context Window Size vs. Squared Error"
   ]
  },
  {
   "cell_type": "markdown",
   "id": "1ffa7782",
   "metadata": {},
   "source": [
    "# Figure 2: Context Window Size vs. Distribution Shifts"
   ]
  },
  {
   "cell_type": "markdown",
   "id": "35e3f572",
   "metadata": {},
   "source": [
    "# Figure 3: ICL Regression Score"
   ]
  }
 ],
 "metadata": {
  "kernelspec": {
   "display_name": "icl",
   "language": "python",
   "name": "python3"
  },
  "language_info": {
   "codemirror_mode": {
    "name": "ipython",
    "version": 3
   },
   "file_extension": ".py",
   "mimetype": "text/x-python",
   "name": "python",
   "nbconvert_exporter": "python",
   "pygments_lexer": "ipython3",
   "version": "3.8.20"
  }
 },
 "nbformat": 4,
 "nbformat_minor": 5
}
