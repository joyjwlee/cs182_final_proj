{
 "cells": [
  {
   "cell_type": "markdown",
   "id": "3e93183c",
   "metadata": {},
   "source": [
    "# About\n",
    "\n",
    "This notebook will be the main evaluations of the models.\n",
    "\n",
    "Credits to Garg et. al for the code, which we modified. The original source can be found [here](https://github.com/dtsip/in-context-learning)"
   ]
  },
  {
   "cell_type": "code",
   "execution_count": 1,
   "id": "465ad023",
   "metadata": {},
   "outputs": [],
   "source": [
    "from collections import OrderedDict\n",
    "import re\n",
    "import os\n",
    "\n",
    "import matplotlib.pyplot as plt\n",
    "import pandas as pd\n",
    "import seaborn as sns\n",
    "import torch\n",
    "from tqdm.notebook import tqdm\n",
    "\n",
    "from eval import get_run_metrics, read_run_dir, get_model_from_run\n",
    "from plot_utils import basic_plot, collect_results, relevant_model_names\n",
    "\n",
    "%matplotlib inline\n",
    "%load_ext autoreload\n",
    "%autoreload 2\n",
    "\n",
    "sns.set_theme('notebook', 'darkgrid')\n",
    "palette = sns.color_palette('colorblind')\n",
    "\n",
    "run_dir = \"../models\""
   ]
  },
  {
   "cell_type": "code",
   "execution_count": 2,
   "id": "8cb1b724",
   "metadata": {},
   "outputs": [
    {
     "data": {
      "text/html": [
       "<div>\n",
       "<style scoped>\n",
       "    .dataframe tbody tr th:only-of-type {\n",
       "        vertical-align: middle;\n",
       "    }\n",
       "\n",
       "    .dataframe tbody tr th {\n",
       "        vertical-align: top;\n",
       "    }\n",
       "\n",
       "    .dataframe thead th {\n",
       "        text-align: right;\n",
       "    }\n",
       "</style>\n",
       "<table border=\"1\" class=\"dataframe\">\n",
       "  <thead>\n",
       "    <tr style=\"text-align: right;\">\n",
       "      <th></th>\n",
       "      <th>run_id</th>\n",
       "      <th>task</th>\n",
       "      <th>model</th>\n",
       "      <th>kwargs</th>\n",
       "      <th>num_tasks</th>\n",
       "      <th>num_examples</th>\n",
       "      <th>n_dims</th>\n",
       "      <th>n_layer</th>\n",
       "      <th>n_head</th>\n",
       "      <th>run_name</th>\n",
       "    </tr>\n",
       "  </thead>\n",
       "  <tbody>\n",
       "    <tr>\n",
       "      <th>0</th>\n",
       "      <td>mamba</td>\n",
       "      <td>kernel_regression</td>\n",
       "      <td>mamba_kernel_regression</td>\n",
       "      <td></td>\n",
       "      <td>-1</td>\n",
       "      <td>-1</td>\n",
       "      <td>5</td>\n",
       "      <td>12</td>\n",
       "      <td>NaN</td>\n",
       "      <td>mamba_kernel_regression</td>\n",
       "    </tr>\n",
       "    <tr>\n",
       "      <th>1</th>\n",
       "      <td>nanogpt</td>\n",
       "      <td>kernel_regression</td>\n",
       "      <td>nanogpt_kernel_regression</td>\n",
       "      <td></td>\n",
       "      <td>-1</td>\n",
       "      <td>-1</td>\n",
       "      <td>5</td>\n",
       "      <td>12</td>\n",
       "      <td>8.0</td>\n",
       "      <td>nanogpt_kernel_regression</td>\n",
       "    </tr>\n",
       "  </tbody>\n",
       "</table>\n",
       "</div>"
      ],
      "text/plain": [
       "    run_id               task                      model kwargs  num_tasks  \\\n",
       "0    mamba  kernel_regression    mamba_kernel_regression                -1   \n",
       "1  nanogpt  kernel_regression  nanogpt_kernel_regression                -1   \n",
       "\n",
       "   num_examples  n_dims  n_layer  n_head                   run_name  \n",
       "0            -1       5       12     NaN    mamba_kernel_regression  \n",
       "1            -1       5       12     8.0  nanogpt_kernel_regression  "
      ]
     },
     "execution_count": 2,
     "metadata": {},
     "output_type": "execute_result"
    }
   ],
   "source": [
    "# Displaying the directories\n",
    "df = read_run_dir(run_dir)\n",
    "df  # list all the runs in our run_dir"
   ]
  },
  {
   "cell_type": "code",
   "execution_count": null,
   "id": "5a194204",
   "metadata": {},
   "outputs": [],
   "source": [
    "# Defining some hyperparameters for generating figures\n",
    "task = \"kernel_regression\"\n",
    "run_id_nanogpt = \"nanogpt\"\n",
    "run_path_nanogpt = os.path.join(run_dir, task, run_id_nanogpt)\n",
    "\n",
    "run_id_mamba = \"mamba\"\n",
    "run_path_mamba = os.path.join(run_dir, task, run_id_mamba)"
   ]
  },
  {
   "cell_type": "markdown",
   "id": "78cbd639",
   "metadata": {},
   "source": [
    "# Running Metrics\n",
    "\n",
    "Recomputing metrics: getting nanoGPT and Mamba to run on the same dataset to get an equal comparison and also adding the distribution shifts"
   ]
  },
  {
   "cell_type": "code",
   "execution_count": null,
   "id": "ac46a7f4",
   "metadata": {},
   "outputs": [],
   "source": [
    "get_run_metrics([run_path_nanogpt, run_path_mamba])"
   ]
  },
  {
   "cell_type": "markdown",
   "id": "cd154c9b",
   "metadata": {},
   "source": [
    "# Figure 1: Context Window Size vs. Squared Error"
   ]
  },
  {
   "cell_type": "code",
   "execution_count": null,
   "id": "bb6dee78",
   "metadata": {},
   "outputs": [],
   "source": [
    "\n",
    "def valid_row(r):\n",
    "    return r.task == task and r.run_id == run_id\n",
    "\n",
    "metrics = collect_results(run_dir, df, valid_row=valid_row)\n",
    "_, conf = get_model_from_run(run_path_nanogpt, only_conf=True)\n",
    "n_dims = conf.model.n_dims\n",
    "\n",
    "models = relevant_model_names[task + \"_\" + run_id]\n",
    "basic_plot(metrics[\"standard\"], models=models)\n",
    "plt.show()"
   ]
  },
  {
   "cell_type": "code",
   "execution_count": null,
   "id": "88face47",
   "metadata": {},
   "outputs": [],
   "source": [
    "run_id = \"mamba\"  # if you train more models, replace with the run_id from the table above\n",
    "\n",
    "run_path = os.path.join(run_dir, task, run_id)\n",
    "\n",
    "def valid_row(r):\n",
    "    return r.task == task and r.run_id == run_id\n",
    "\n",
    "metrics = collect_results(run_dir, df, valid_row=valid_row)\n",
    "_, conf = get_model_from_run(run_path, only_conf=True)\n",
    "n_dims = conf.model.n_dims\n",
    "\n",
    "models = relevant_model_names[task + \"_\" + run_id]\n",
    "basic_plot(metrics[\"standard\"], models=models)\n",
    "plt.show()"
   ]
  },
  {
   "cell_type": "markdown",
   "id": "1ffa7782",
   "metadata": {},
   "source": [
    "# Figure 2: Context Window Size vs. Distribution Shifts"
   ]
  },
  {
   "cell_type": "markdown",
   "id": "35e3f572",
   "metadata": {},
   "source": [
    "# Figure 3: ICL Regression Score"
   ]
  }
 ],
 "metadata": {
  "kernelspec": {
   "display_name": "icl",
   "language": "python",
   "name": "python3"
  },
  "language_info": {
   "codemirror_mode": {
    "name": "ipython",
    "version": 3
   },
   "file_extension": ".py",
   "mimetype": "text/x-python",
   "name": "python",
   "nbconvert_exporter": "python",
   "pygments_lexer": "ipython3",
   "version": "3.8.12"
  }
 },
 "nbformat": 4,
 "nbformat_minor": 5
}
